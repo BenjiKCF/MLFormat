{
 "cells": [
  {
   "cell_type": "code",
   "execution_count": 1,
   "metadata": {},
   "outputs": [
    {
     "name": "stderr",
     "output_type": "stream",
     "text": [
      "Using TensorFlow backend.\n",
      "/home/bf/anaconda3/envs/fastai2/lib/python3.7/site-packages/tensorflow/python/framework/dtypes.py:516: FutureWarning: Passing (type, 1) or '1type' as a synonym of type is deprecated; in a future version of numpy, it will be understood as (type, (1,)) / '(1,)type'.\n",
      "  _np_qint8 = np.dtype([(\"qint8\", np.int8, 1)])\n",
      "/home/bf/anaconda3/envs/fastai2/lib/python3.7/site-packages/tensorflow/python/framework/dtypes.py:517: FutureWarning: Passing (type, 1) or '1type' as a synonym of type is deprecated; in a future version of numpy, it will be understood as (type, (1,)) / '(1,)type'.\n",
      "  _np_quint8 = np.dtype([(\"quint8\", np.uint8, 1)])\n",
      "/home/bf/anaconda3/envs/fastai2/lib/python3.7/site-packages/tensorflow/python/framework/dtypes.py:518: FutureWarning: Passing (type, 1) or '1type' as a synonym of type is deprecated; in a future version of numpy, it will be understood as (type, (1,)) / '(1,)type'.\n",
      "  _np_qint16 = np.dtype([(\"qint16\", np.int16, 1)])\n",
      "/home/bf/anaconda3/envs/fastai2/lib/python3.7/site-packages/tensorflow/python/framework/dtypes.py:519: FutureWarning: Passing (type, 1) or '1type' as a synonym of type is deprecated; in a future version of numpy, it will be understood as (type, (1,)) / '(1,)type'.\n",
      "  _np_quint16 = np.dtype([(\"quint16\", np.uint16, 1)])\n",
      "/home/bf/anaconda3/envs/fastai2/lib/python3.7/site-packages/tensorflow/python/framework/dtypes.py:520: FutureWarning: Passing (type, 1) or '1type' as a synonym of type is deprecated; in a future version of numpy, it will be understood as (type, (1,)) / '(1,)type'.\n",
      "  _np_qint32 = np.dtype([(\"qint32\", np.int32, 1)])\n",
      "/home/bf/anaconda3/envs/fastai2/lib/python3.7/site-packages/tensorflow/python/framework/dtypes.py:525: FutureWarning: Passing (type, 1) or '1type' as a synonym of type is deprecated; in a future version of numpy, it will be understood as (type, (1,)) / '(1,)type'.\n",
      "  np_resource = np.dtype([(\"resource\", np.ubyte, 1)])\n",
      "/home/bf/anaconda3/envs/fastai2/lib/python3.7/site-packages/tensorboard/compat/tensorflow_stub/dtypes.py:541: FutureWarning: Passing (type, 1) or '1type' as a synonym of type is deprecated; in a future version of numpy, it will be understood as (type, (1,)) / '(1,)type'.\n",
      "  _np_qint8 = np.dtype([(\"qint8\", np.int8, 1)])\n",
      "/home/bf/anaconda3/envs/fastai2/lib/python3.7/site-packages/tensorboard/compat/tensorflow_stub/dtypes.py:542: FutureWarning: Passing (type, 1) or '1type' as a synonym of type is deprecated; in a future version of numpy, it will be understood as (type, (1,)) / '(1,)type'.\n",
      "  _np_quint8 = np.dtype([(\"quint8\", np.uint8, 1)])\n",
      "/home/bf/anaconda3/envs/fastai2/lib/python3.7/site-packages/tensorboard/compat/tensorflow_stub/dtypes.py:543: FutureWarning: Passing (type, 1) or '1type' as a synonym of type is deprecated; in a future version of numpy, it will be understood as (type, (1,)) / '(1,)type'.\n",
      "  _np_qint16 = np.dtype([(\"qint16\", np.int16, 1)])\n",
      "/home/bf/anaconda3/envs/fastai2/lib/python3.7/site-packages/tensorboard/compat/tensorflow_stub/dtypes.py:544: FutureWarning: Passing (type, 1) or '1type' as a synonym of type is deprecated; in a future version of numpy, it will be understood as (type, (1,)) / '(1,)type'.\n",
      "  _np_quint16 = np.dtype([(\"quint16\", np.uint16, 1)])\n",
      "/home/bf/anaconda3/envs/fastai2/lib/python3.7/site-packages/tensorboard/compat/tensorflow_stub/dtypes.py:545: FutureWarning: Passing (type, 1) or '1type' as a synonym of type is deprecated; in a future version of numpy, it will be understood as (type, (1,)) / '(1,)type'.\n",
      "  _np_qint32 = np.dtype([(\"qint32\", np.int32, 1)])\n",
      "/home/bf/anaconda3/envs/fastai2/lib/python3.7/site-packages/tensorboard/compat/tensorflow_stub/dtypes.py:550: FutureWarning: Passing (type, 1) or '1type' as a synonym of type is deprecated; in a future version of numpy, it will be understood as (type, (1,)) / '(1,)type'.\n",
      "  np_resource = np.dtype([(\"resource\", np.ubyte, 1)])\n"
     ]
    }
   ],
   "source": [
    "from mlbox.preprocessing import *\n",
    "from mlbox.optimisation import *\n",
    "from mlbox.prediction import *\n",
    "import warnings\n",
    "warnings.filterwarnings(\"ignore\")"
   ]
  },
  {
   "cell_type": "code",
   "execution_count": 2,
   "metadata": {},
   "outputs": [],
   "source": [
    "target_name = 'TARGET'"
   ]
  },
  {
   "cell_type": "code",
   "execution_count": 3,
   "metadata": {},
   "outputs": [
    {
     "name": "stdout",
     "output_type": "stream",
     "text": [
      "\n",
      "reading csv : fm_train.csv ...\n",
      "cleaning data ...\n",
      "CPU time: 24.90402865409851 seconds\n",
      "\n",
      "reading csv : fm_test.csv ...\n",
      "cleaning data ...\n",
      "CPU time: 2.050567150115967 seconds\n",
      "\n",
      "> Number of common features : 202\n",
      "\n",
      "gathering and crunching for train and test datasets ...\n",
      "reindexing for train and test datasets ...\n",
      "dropping training duplicates ...\n",
      "dropping constant variables on training set ...\n",
      "\n",
      "> Number of categorical features: 16\n",
      "> Number of numerical features: 186\n",
      "> Number of training samples : 307511\n",
      "> Number of test samples : 48744\n",
      "\n",
      "> Top sparse features (% missing values on train set):\n",
      "MEAN(prev.RATE_INTEREST_PRIVILEGED)    99.9\n",
      "MEAN(prev.RATE_INTEREST_PRIMARY)       99.9\n",
      "MEAN(prev.AMT_DOWN_PAYMENT)            96.6\n",
      "MEAN(prev.RATE_DOWN_PAYMENT)           96.6\n",
      "MEAN(prev.DAYS_TERMINATION)            96.5\n",
      "dtype: float64\n",
      "\n",
      "> Task : classification\n",
      "0.0    282686\n",
      "1.0     24825\n",
      "Name: TARGET, dtype: int64\n",
      "\n",
      "encoding target ...\n"
     ]
    }
   ],
   "source": [
    "paths = [\"fm_train.csv\",\"fm_test.csv\"]\n",
    "rd = Reader(sep=',')\n",
    "df = rd.train_test_split(paths, target_name)"
   ]
  },
  {
   "cell_type": "code",
   "execution_count": 4,
   "metadata": {},
   "outputs": [
    {
     "name": "stdout",
     "output_type": "stream",
     "text": [
      "\n",
      "computing drifts ...\n",
      "CPU time: 92.30414247512817 seconds\n",
      "\n",
      "> Top 10 drifts\n",
      "\n",
      "('SUM(bureau.AMT_ANNUITY)', 0.4235158771478287)\n",
      "('MEAN(bureau.AMT_ANNUITY)', 0.42337257379333604)\n",
      "('AMT_CREDIT', 0.24189884813473927)\n",
      "('AMT_REQ_CREDIT_BUREAU_QRT', 0.23728724239229093)\n",
      "('AMT_GOODS_PRICE', 0.20515421134102207)\n",
      "('DAYS_LAST_PHONE_CHANGE', 0.15792177841222177)\n",
      "('EXT_SOURCE_1', 0.15026662999937224)\n",
      "('AMT_ANNUITY', 0.1439787831587187)\n",
      "('AMT_REQ_CREDIT_BUREAU_MON', 0.13520528735722914)\n",
      "('DAYS_ID_PUBLISH', 0.11778793362892914)\n",
      "\n",
      "> Deleted variables : []\n",
      "> Drift coefficients dumped into directory : save\n"
     ]
    }
   ],
   "source": [
    "dft = Drift_thresholder()\n",
    "df = dft.fit_transform(df)"
   ]
  },
  {
   "cell_type": "code",
   "execution_count": 5,
   "metadata": {},
   "outputs": [],
   "source": [
    "df['train'].to_csv('preprocessed_train.csv', index=False)\n",
    "df['test'].to_csv('preprocessed_test.csv', index=False)"
   ]
  },
  {
   "cell_type": "code",
   "execution_count": 6,
   "metadata": {},
   "outputs": [],
   "source": [
    "opt = Optimiser(scoring = \"accuracy\", n_folds = 5)"
   ]
  },
  {
   "cell_type": "code",
   "execution_count": null,
   "metadata": {},
   "outputs": [
    {
     "name": "stdout",
     "output_type": "stream",
     "text": [
      "##################################################### testing hyper-parameters... #####################################################\n",
      ">>> NA ENCODER :{'numerical_strategy': 'mean', 'categorical_strategy': '<NULL>'}\n",
      ">>> CA ENCODER :{'strategy': 'label_encoding'}      \n",
      ">>> ESTIMATOR :{'strategy': 'LightGBM', 'colsample_bytree': 0.9023647322993535, 'learning_rate': 0.07, 'max_depth': 6, 'n_estimators': 150, 'nthread': -1, 'subsample': 0.8934301710046723, 'boosting_type': 'gbdt', 'class_weight': None, 'importance_type': 'split', 'min_child_samples': 20, 'min_child_weight': 0.001, 'min_split_gain': 0.0, 'n_jobs': -1, 'num_leaves': 31, 'objective': None, 'random_state': None, 'reg_alpha': 0.0, 'reg_lambda': 0.0, 'silent': True, 'subsample_for_bin': 200000, 'subsample_freq': 0, 'seed': 0}\n",
      "MEAN SCORE : accuracy = 0.9196776705924321          \n",
      "VARIANCE : 0.0002174655976380991 (fold 1 = 0.9195161211648212, fold 2 = 0.9193359565542584, fold 3 = 0.9198237455692497, fold 4 = 0.9197912263015837, fold 5 = 0.9199213033722481)\n",
      "CPU time: 71.52873063087463 seconds                 \n",
      "##################################################### testing hyper-parameters... #####################################################\n",
      ">>> NA ENCODER :{'numerical_strategy': 'mean', 'categorical_strategy': '<NULL>'}\n",
      ">>> CA ENCODER :{'strategy': 'label_encoding'}                                \n",
      ">>> ESTIMATOR :{'strategy': 'LightGBM', 'colsample_bytree': 0.8769560654243993, 'learning_rate': 0.07, 'max_depth': 9, 'n_estimators': 300, 'nthread': -1, 'subsample': 0.808942589080987, 'boosting_type': 'gbdt', 'class_weight': None, 'importance_type': 'split', 'min_child_samples': 20, 'min_child_weight': 0.001, 'min_split_gain': 0.0, 'n_jobs': -1, 'num_leaves': 31, 'objective': None, 'random_state': None, 'reg_alpha': 0.0, 'reg_lambda': 0.0, 'silent': True, 'subsample_for_bin': 200000, 'subsample_freq': 0, 'seed': 0}\n",
      "MEAN SCORE : accuracy = 0.9196646635727314                                    \n",
      "VARIANCE : 0.0002916982243362747 (fold 1 = 0.9193047493618197, fold 2 = 0.9193359565542584, fold 3 = 0.9200351208090793, fold 4 = 0.9198237455692497, fold 5 = 0.9198237455692497)\n",
      "CPU time: 101.00105547904968 seconds                                          \n",
      "##################################################### testing hyper-parameters... #####################################################\n",
      ">>> NA ENCODER :{'numerical_strategy': 'mean', 'categorical_strategy': '<NULL>'}\n",
      ">>> CA ENCODER :{'strategy': 'label_encoding'}                                \n",
      ">>> ESTIMATOR :{'strategy': 'LightGBM', 'colsample_bytree': 0.8155353503085533, 'learning_rate': 0.07, 'max_depth': 7, 'n_estimators': 150, 'nthread': -1, 'subsample': 0.8761072641386779, 'boosting_type': 'gbdt', 'class_weight': None, 'importance_type': 'split', 'min_child_samples': 20, 'min_child_weight': 0.001, 'min_split_gain': 0.0, 'n_jobs': -1, 'num_leaves': 31, 'objective': None, 'random_state': None, 'reg_alpha': 0.0, 'reg_lambda': 0.0, 'silent': True, 'subsample_for_bin': 200000, 'subsample_freq': 0, 'seed': 0}\n",
      "MEAN SCORE : accuracy = 0.9196223886833883                                    \n",
      "VARIANCE : 0.0002795102076756386 (fold 1 = 0.9192559712534348, fold 2 = 0.9193359565542584, fold 3 = 0.9199863419075802, fold 4 = 0.9197587070339176, fold 5 = 0.9197749666677506)\n",
      "CPU time: 70.98292803764343 seconds                                           \n",
      "##################################################### testing hyper-parameters... #####################################################\n",
      ">>> NA ENCODER :{'numerical_strategy': 'mean', 'categorical_strategy': '<NULL>'}\n",
      ">>> CA ENCODER :{'strategy': 'label_encoding'}                                \n",
      ">>> ESTIMATOR :{'strategy': 'LightGBM', 'colsample_bytree': 0.9327868318340863, 'learning_rate': 0.07, 'max_depth': 6, 'n_estimators': 150, 'nthread': -1, 'subsample': 0.8600789597906497, 'boosting_type': 'gbdt', 'class_weight': None, 'importance_type': 'split', 'min_child_samples': 20, 'min_child_weight': 0.001, 'min_split_gain': 0.0, 'n_jobs': -1, 'num_leaves': 31, 'objective': None, 'random_state': None, 'reg_alpha': 0.0, 'reg_lambda': 0.0, 'silent': True, 'subsample_for_bin': 200000, 'subsample_freq': 0, 'seed': 0}\n",
      "MEAN SCORE : accuracy = 0.919690677982253                                     \n",
      "VARIANCE : 0.0002681640497472887 (fold 1 = 0.9196136773815912, fold 2 = 0.9192383987512601, fold 3 = 0.9198237455692497, fold 4 = 0.9197261877662515, fold 5 = 0.9200513804429125)\n",
      "CPU time: 72.63849449157715 seconds                                           \n",
      "##################################################### testing hyper-parameters... #####################################################\n",
      ">>> NA ENCODER :{'numerical_strategy': 'mean', 'categorical_strategy': '<NULL>'}\n",
      ">>> CA ENCODER :{'strategy': 'label_encoding'}                               \n",
      ">>> ESTIMATOR :{'strategy': 'LightGBM', 'colsample_bytree': 0.8497807051784062, 'learning_rate': 0.07, 'max_depth': 6, 'n_estimators': 150, 'nthread': -1, 'subsample': 0.8391185768106703, 'boosting_type': 'gbdt', 'class_weight': None, 'importance_type': 'split', 'min_child_samples': 20, 'min_child_weight': 0.001, 'min_split_gain': 0.0, 'n_jobs': -1, 'num_leaves': 31, 'objective': None, 'random_state': None, 'reg_alpha': 0.0, 'reg_lambda': 0.0, 'silent': True, 'subsample_for_bin': 200000, 'subsample_freq': 0, 'seed': 0}\n",
      "MEAN SCORE : accuracy = 0.9196809235238101                                   \n",
      "VARIANCE : 0.00031175166484989994 (fold 1 = 0.9192071931450498, fold 2 = 0.9195148125264219, fold 3 = 0.9197749666677506, fold 4 = 0.9197587070339176, fold 5 = 0.9201489382459107)\n",
      "CPU time: 69.9450113773346 seconds                                           \n",
      "##################################################### testing hyper-parameters... #####################################################\n",
      ">>> NA ENCODER :{'numerical_strategy': 'mean', 'categorical_strategy': '<NULL>'}\n",
      ">>> CA ENCODER :{'strategy': 'label_encoding'}                               \n",
      ">>> ESTIMATOR :{'strategy': 'LightGBM', 'colsample_bytree': 0.9392268701771304, 'learning_rate': 0.07, 'max_depth': 7, 'n_estimators': 150, 'nthread': -1, 'subsample': 0.8719989467145036, 'boosting_type': 'gbdt', 'class_weight': None, 'importance_type': 'split', 'min_child_samples': 20, 'min_child_weight': 0.001, 'min_split_gain': 0.0, 'n_jobs': -1, 'num_leaves': 31, 'objective': None, 'random_state': None, 'reg_alpha': 0.0, 'reg_lambda': 0.0, 'silent': True, 'subsample_for_bin': 200000, 'subsample_freq': 0, 'seed': 0}\n",
      "MEAN SCORE : accuracy = 0.9196223884718912                                   \n",
      "VARIANCE : 0.0003069760260789121 (fold 1 = 0.9193210087312814, fold 2 = 0.919205879483594, fold 3 = 0.9197099281324185, fold 4 = 0.9199538226399141, fold 5 = 0.9199213033722481)\n",
      "CPU time: 75.35899353027344 seconds                                          \n",
      "##################################################### testing hyper-parameters... #####################################################\n",
      ">>> NA ENCODER :{'numerical_strategy': 'mean', 'categorical_strategy': '<NULL>'}\n",
      ">>> CA ENCODER :{'strategy': 'label_encoding'}                               \n",
      ">>> ESTIMATOR :{'strategy': 'LightGBM', 'colsample_bytree': 0.8854403951773205, 'learning_rate': 0.07, 'max_depth': 7, 'n_estimators': 300, 'nthread': -1, 'subsample': 0.8670809585051753, 'boosting_type': 'gbdt', 'class_weight': None, 'importance_type': 'split', 'min_child_samples': 20, 'min_child_weight': 0.001, 'min_split_gain': 0.0, 'n_jobs': -1, 'num_leaves': 31, 'objective': None, 'random_state': None, 'reg_alpha': 0.0, 'reg_lambda': 0.0, 'silent': True, 'subsample_for_bin': 200000, 'subsample_freq': 0, 'seed': 0}\n",
      "MEAN SCORE : accuracy = 0.9195996245086564                                   \n",
      "VARIANCE : 0.00030965826578558916 (fold 1 = 0.9194673430564363, fold 2 = 0.9190595427790966, fold 3 = 0.9197587070339176, fold 4 = 0.9197749666677506, fold 5 = 0.9199375630060811)\n",
      "CPU time: 101.31719708442688 seconds                                         \n",
      "##################################################### testing hyper-parameters... #####################################################\n",
      ">>> NA ENCODER :{'numerical_strategy': 'mean', 'categorical_strategy': '<NULL>'}\n",
      ">>> CA ENCODER :{'strategy': 'label_encoding'}                               \n",
      ">>> ESTIMATOR :{'strategy': 'LightGBM', 'colsample_bytree': 0.9350829310330552, 'learning_rate': 0.07, 'max_depth': 6, 'n_estimators': 300, 'nthread': -1, 'subsample': 0.8620640157541788, 'boosting_type': 'gbdt', 'class_weight': None, 'importance_type': 'split', 'min_child_samples': 20, 'min_child_weight': 0.001, 'min_split_gain': 0.0, 'n_jobs': -1, 'num_leaves': 31, 'objective': None, 'random_state': None, 'reg_alpha': 0.0, 'reg_lambda': 0.0, 'silent': True, 'subsample_for_bin': 200000, 'subsample_freq': 0, 'seed': 0}\n",
      "MEAN SCORE : accuracy = 0.9195313339408091                                   \n",
      "VARIANCE : 0.0002655535407797491 (fold 1 = 0.9194998617953596, fold 2 = 0.9190270235114305, fold 3 = 0.9196936684985854, fold 4 = 0.9196936684985854, fold 5 = 0.9197424474000846)\n",
      "CPU time: 103.2790412902832 seconds                                          \n",
      "##################################################### testing hyper-parameters... #####################################################\n",
      ">>> NA ENCODER :{'numerical_strategy': 'mean', 'categorical_strategy': '<NULL>'}\n",
      ">>> CA ENCODER :{'strategy': 'label_encoding'}                               \n",
      ">>> ESTIMATOR :{'strategy': 'LightGBM', 'colsample_bytree': 0.927485787926781, 'learning_rate': 0.07, 'max_depth': 7, 'n_estimators': 150, 'nthread': -1, 'subsample': 0.8604661265642428, 'boosting_type': 'gbdt', 'class_weight': None, 'importance_type': 'split', 'min_child_samples': 20, 'min_child_weight': 0.001, 'min_split_gain': 0.0, 'n_jobs': -1, 'num_leaves': 31, 'objective': None, 'random_state': None, 'reg_alpha': 0.0, 'reg_lambda': 0.0, 'silent': True, 'subsample_for_bin': 200000, 'subsample_freq': 0, 'seed': 0}\n",
      "MEAN SCORE : accuracy = 0.9197394568308779                                   \n",
      "VARIANCE : 0.00023014271188097582 (fold 1 = 0.9196299367510528, fold 2 = 0.9193522161880915, fold 3 = 0.9199375630060811, fold 4 = 0.9197912263015837, fold 5 = 0.9199863419075802)\n",
      "CPU time: 75.10099744796753 seconds                                          \n",
      "##################################################### testing hyper-parameters... #####################################################\n",
      ">>> NA ENCODER :{'numerical_strategy': 'mean', 'categorical_strategy': '<NULL>'}\n",
      ">>> CA ENCODER :{'strategy': 'label_encoding'}                                \n",
      ">>> ESTIMATOR :{'strategy': 'LightGBM', 'colsample_bytree': 0.8582585701785375, 'learning_rate': 0.07, 'max_depth': 8, 'n_estimators': 150, 'nthread': -1, 'subsample': 0.9124071316275482, 'boosting_type': 'gbdt', 'class_weight': None, 'importance_type': 'split', 'min_child_samples': 20, 'min_child_weight': 0.001, 'min_split_gain': 0.0, 'n_jobs': -1, 'num_leaves': 31, 'objective': None, 'random_state': None, 'reg_alpha': 0.0, 'reg_lambda': 0.0, 'silent': True, 'subsample_for_bin': 200000, 'subsample_freq': 0, 'seed': 0}\n",
      "MEAN SCORE : accuracy = 0.919706938197703                                     \n",
      "VARIANCE : 0.0003176333683590511 (fold 1 = 0.919434824317513, fold 2 = 0.9193196969204254, fold 3 = 0.9201814575135768, fold 4 = 0.9196611492309194, fold 5 = 0.9199375630060811)\n",
      "CPU time: 73.51976132392883 seconds                                           \n",
      "##################################################### testing hyper-parameters... #####################################################\n",
      ">>> NA ENCODER :{'numerical_strategy': 'mean', 'categorical_strategy': '<NULL>'}\n",
      ">>> CA ENCODER :{'strategy': 'label_encoding'}                                 \n",
      ">>> ESTIMATOR :{'strategy': 'LightGBM', 'colsample_bytree': 0.8103861700036654, 'learning_rate': 0.07, 'max_depth': 8, 'n_estimators': 300, 'nthread': -1, 'subsample': 0.8089647605025613, 'boosting_type': 'gbdt', 'class_weight': None, 'importance_type': 'split', 'min_child_samples': 20, 'min_child_weight': 0.001, 'min_split_gain': 0.0, 'n_jobs': -1, 'num_leaves': 31, 'objective': None, 'random_state': None, 'reg_alpha': 0.0, 'reg_lambda': 0.0, 'silent': True, 'subsample_for_bin': 200000, 'subsample_freq': 0, 'seed': 0}\n",
      "MEAN SCORE : accuracy = 0.9196484030400356                                     \n",
      "VARIANCE : 0.00028904943235593094 (fold 1 = 0.9195811586426679, fold 2 = 0.9191245813144288, fold 3 = 0.9199538226399141, fold 4 = 0.9197424474000846, fold 5 = 0.9198400052030828)\n",
      "CPU time: 96.96264123916626 seconds                                            \n",
      "##################################################### testing hyper-parameters... #####################################################\n",
      ">>> NA ENCODER :{'numerical_strategy': 'mean', 'categorical_strategy': '<NULL>'}\n",
      ">>> CA ENCODER :{'strategy': 'label_encoding'}                                 \n",
      ">>> ESTIMATOR :{'strategy': 'LightGBM', 'colsample_bytree': 0.9100089398617138, 'learning_rate': 0.07, 'max_depth': 6, 'n_estimators': 150, 'nthread': -1, 'subsample': 0.919510452855563, 'boosting_type': 'gbdt', 'class_weight': None, 'importance_type': 'split', 'min_child_samples': 20, 'min_child_weight': 0.001, 'min_split_gain': 0.0, 'n_jobs': -1, 'num_leaves': 31, 'objective': None, 'random_state': None, 'reg_alpha': 0.0, 'reg_lambda': 0.0, 'silent': True, 'subsample_for_bin': 200000, 'subsample_freq': 0, 'seed': 0}\n",
      "MEAN SCORE : accuracy = 0.9196776706453065                                     \n",
      "VARIANCE : 0.00024097569257058605 (fold 1 = 0.9194998617953596, fold 2 = 0.9193034372865923, fold 3 = 0.919888784104582, fold 4 = 0.9199375630060811, fold 5 = 0.9197587070339176)\n",
      "CPU time: 71.82976055145264 seconds                                            \n",
      "##################################################### testing hyper-parameters... #####################################################\n",
      ">>> NA ENCODER :{'numerical_strategy': 'mean', 'categorical_strategy': '<NULL>'}\n",
      ">>> CA ENCODER :{'strategy': 'label_encoding'}                                 \n",
      ">>> ESTIMATOR :{'strategy': 'LightGBM', 'colsample_bytree': 0.9398648189005445, 'learning_rate': 0.07, 'max_depth': 5, 'n_estimators': 300, 'nthread': -1, 'subsample': 0.851388991083396, 'boosting_type': 'gbdt', 'class_weight': None, 'importance_type': 'split', 'min_child_samples': 20, 'min_child_weight': 0.001, 'min_split_gain': 0.0, 'n_jobs': -1, 'num_leaves': 31, 'objective': None, 'random_state': None, 'reg_alpha': 0.0, 'reg_lambda': 0.0, 'silent': True, 'subsample_for_bin': 200000, 'subsample_freq': 0, 'seed': 0}\n",
      " 80%|████████  | 12/15 [16:24<04:05, 81.88s/it, best loss: -0.9197394568308779]"
     ]
    }
   ],
   "source": [
    "space = {\n",
    "    \n",
    "        'est__strategy':{\"search\":\"choice\",\n",
    "                                  \"space\":[\"LightGBM\"]},    \n",
    "        'est__n_estimators':{\"search\":\"choice\",\n",
    "                                  \"space\":[150,300]},    \n",
    "        'est__colsample_bytree':{\"search\":\"uniform\",\n",
    "                                  \"space\":[0.8,0.95]},\n",
    "        'est__subsample':{\"search\":\"uniform\",\n",
    "                                  \"space\":[0.8,0.95]},\n",
    "        'est__max_depth':{\"search\":\"choice\",\n",
    "                                  \"space\":[5,6,7,8,9]},\n",
    "        'est__learning_rate':{\"search\":\"choice\",\n",
    "                                  \"space\":[0.07]},\n",
    "        'est__nthread':{'search':'choice',\n",
    "                  'space':[4]}\n",
    "    \n",
    "        }\n",
    "\n",
    "params = opt.optimise(space, df,15)"
   ]
  },
  {
   "cell_type": "code",
   "execution_count": null,
   "metadata": {},
   "outputs": [],
   "source": [
    "prd = Predictor()\n",
    "prd.fit_predict(params, df)"
   ]
  },
  {
   "cell_type": "code",
   "execution_count": null,
   "metadata": {},
   "outputs": [],
   "source": [
    "submit = pd.read_csv(\"sample_submission.csv\",sep=',')\n",
    "preds = pd.read_csv(\"save/\"+target_name+\"_predictions.csv\")\n",
    "\n",
    "submit[target_name] =  preds[target_name+\"_predicted\"].values\n",
    "submit.to_csv(\"mlbox.csv\", index=False)"
   ]
  },
  {
   "cell_type": "code",
   "execution_count": 21,
   "metadata": {},
   "outputs": [
    {
     "name": "stdout",
     "output_type": "stream",
     "text": [
      "/bin/sh: 1: kaggle: not found\n"
     ]
    }
   ],
   "source": [
    "#!kaggle competitions submit -c home-credit-default-risk -f mlbox.csv -m \"featuretools and mlbox\""
   ]
  },
  {
   "cell_type": "code",
   "execution_count": null,
   "metadata": {},
   "outputs": [],
   "source": []
  }
 ],
 "metadata": {
  "kernelspec": {
   "display_name": "Python 3",
   "language": "python",
   "name": "python3"
  },
  "language_info": {
   "codemirror_mode": {
    "name": "ipython",
    "version": 3
   },
   "file_extension": ".py",
   "mimetype": "text/x-python",
   "name": "python",
   "nbconvert_exporter": "python",
   "pygments_lexer": "ipython3",
   "version": "3.7.5"
  }
 },
 "nbformat": 4,
 "nbformat_minor": 4
}
